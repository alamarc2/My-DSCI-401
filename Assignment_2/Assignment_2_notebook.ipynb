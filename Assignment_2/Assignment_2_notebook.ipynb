{
 "cells": [
  {
   "cell_type": "markdown",
   "metadata": {},
   "source": [
    "## Assignment 2 Regression Examples"
   ]
  },
  {
   "cell_type": "code",
   "execution_count": 495,
   "metadata": {},
   "outputs": [
    {
     "data": {
      "text/html": [
       "<div>\n",
       "<style scoped>\n",
       "    .dataframe tbody tr th:only-of-type {\n",
       "        vertical-align: middle;\n",
       "    }\n",
       "\n",
       "    .dataframe tbody tr th {\n",
       "        vertical-align: top;\n",
       "    }\n",
       "\n",
       "    .dataframe thead th {\n",
       "        text-align: right;\n",
       "    }\n",
       "</style>\n",
       "<table border=\"1\" class=\"dataframe\">\n",
       "  <thead>\n",
       "    <tr style=\"text-align: right;\">\n",
       "      <th></th>\n",
       "      <th>PID</th>\n",
       "      <th>MS.SubClass</th>\n",
       "      <th>MS.Zoning</th>\n",
       "      <th>Lot.Frontage</th>\n",
       "      <th>Lot.Area</th>\n",
       "      <th>Street</th>\n",
       "      <th>Alley</th>\n",
       "      <th>Lot.Shape</th>\n",
       "      <th>Land.Contour</th>\n",
       "      <th>Utilities</th>\n",
       "      <th>...</th>\n",
       "      <th>Pool.Area</th>\n",
       "      <th>Pool.QC</th>\n",
       "      <th>Fence</th>\n",
       "      <th>Misc.Feature</th>\n",
       "      <th>Misc.Val</th>\n",
       "      <th>Mo.Sold</th>\n",
       "      <th>Yr.Sold</th>\n",
       "      <th>Sale.Type</th>\n",
       "      <th>Sale.Condition</th>\n",
       "      <th>SalePrice</th>\n",
       "    </tr>\n",
       "  </thead>\n",
       "  <tbody>\n",
       "    <tr>\n",
       "      <th>0</th>\n",
       "      <td>526350040</td>\n",
       "      <td>20</td>\n",
       "      <td>RH</td>\n",
       "      <td>80.0</td>\n",
       "      <td>11622</td>\n",
       "      <td>Pave</td>\n",
       "      <td>NaN</td>\n",
       "      <td>Reg</td>\n",
       "      <td>Lvl</td>\n",
       "      <td>AllPub</td>\n",
       "      <td>...</td>\n",
       "      <td>0</td>\n",
       "      <td>NaN</td>\n",
       "      <td>MnPrv</td>\n",
       "      <td>NaN</td>\n",
       "      <td>0</td>\n",
       "      <td>6</td>\n",
       "      <td>2010</td>\n",
       "      <td>WD</td>\n",
       "      <td>Normal</td>\n",
       "      <td>105000</td>\n",
       "    </tr>\n",
       "    <tr>\n",
       "      <th>1</th>\n",
       "      <td>526351010</td>\n",
       "      <td>20</td>\n",
       "      <td>RL</td>\n",
       "      <td>81.0</td>\n",
       "      <td>14267</td>\n",
       "      <td>Pave</td>\n",
       "      <td>NaN</td>\n",
       "      <td>IR1</td>\n",
       "      <td>Lvl</td>\n",
       "      <td>AllPub</td>\n",
       "      <td>...</td>\n",
       "      <td>0</td>\n",
       "      <td>NaN</td>\n",
       "      <td>NaN</td>\n",
       "      <td>Gar2</td>\n",
       "      <td>12500</td>\n",
       "      <td>6</td>\n",
       "      <td>2010</td>\n",
       "      <td>WD</td>\n",
       "      <td>Normal</td>\n",
       "      <td>172000</td>\n",
       "    </tr>\n",
       "    <tr>\n",
       "      <th>2</th>\n",
       "      <td>526353030</td>\n",
       "      <td>20</td>\n",
       "      <td>RL</td>\n",
       "      <td>93.0</td>\n",
       "      <td>11160</td>\n",
       "      <td>Pave</td>\n",
       "      <td>NaN</td>\n",
       "      <td>Reg</td>\n",
       "      <td>Lvl</td>\n",
       "      <td>AllPub</td>\n",
       "      <td>...</td>\n",
       "      <td>0</td>\n",
       "      <td>NaN</td>\n",
       "      <td>NaN</td>\n",
       "      <td>NaN</td>\n",
       "      <td>0</td>\n",
       "      <td>4</td>\n",
       "      <td>2010</td>\n",
       "      <td>WD</td>\n",
       "      <td>Normal</td>\n",
       "      <td>244000</td>\n",
       "    </tr>\n",
       "    <tr>\n",
       "      <th>3</th>\n",
       "      <td>527105010</td>\n",
       "      <td>60</td>\n",
       "      <td>RL</td>\n",
       "      <td>74.0</td>\n",
       "      <td>13830</td>\n",
       "      <td>Pave</td>\n",
       "      <td>NaN</td>\n",
       "      <td>IR1</td>\n",
       "      <td>Lvl</td>\n",
       "      <td>AllPub</td>\n",
       "      <td>...</td>\n",
       "      <td>0</td>\n",
       "      <td>NaN</td>\n",
       "      <td>MnPrv</td>\n",
       "      <td>NaN</td>\n",
       "      <td>0</td>\n",
       "      <td>3</td>\n",
       "      <td>2010</td>\n",
       "      <td>WD</td>\n",
       "      <td>Normal</td>\n",
       "      <td>189900</td>\n",
       "    </tr>\n",
       "    <tr>\n",
       "      <th>4</th>\n",
       "      <td>527105030</td>\n",
       "      <td>60</td>\n",
       "      <td>RL</td>\n",
       "      <td>78.0</td>\n",
       "      <td>9978</td>\n",
       "      <td>Pave</td>\n",
       "      <td>NaN</td>\n",
       "      <td>IR1</td>\n",
       "      <td>Lvl</td>\n",
       "      <td>AllPub</td>\n",
       "      <td>...</td>\n",
       "      <td>0</td>\n",
       "      <td>NaN</td>\n",
       "      <td>NaN</td>\n",
       "      <td>NaN</td>\n",
       "      <td>0</td>\n",
       "      <td>6</td>\n",
       "      <td>2010</td>\n",
       "      <td>WD</td>\n",
       "      <td>Normal</td>\n",
       "      <td>195500</td>\n",
       "    </tr>\n",
       "  </tbody>\n",
       "</table>\n",
       "<p>5 rows × 81 columns</p>\n",
       "</div>"
      ],
      "text/plain": [
       "         PID  MS.SubClass MS.Zoning  Lot.Frontage  Lot.Area Street Alley  \\\n",
       "0  526350040           20        RH          80.0     11622   Pave   NaN   \n",
       "1  526351010           20        RL          81.0     14267   Pave   NaN   \n",
       "2  526353030           20        RL          93.0     11160   Pave   NaN   \n",
       "3  527105010           60        RL          74.0     13830   Pave   NaN   \n",
       "4  527105030           60        RL          78.0      9978   Pave   NaN   \n",
       "\n",
       "  Lot.Shape Land.Contour Utilities    ...     Pool.Area Pool.QC  Fence  \\\n",
       "0       Reg          Lvl    AllPub    ...             0     NaN  MnPrv   \n",
       "1       IR1          Lvl    AllPub    ...             0     NaN    NaN   \n",
       "2       Reg          Lvl    AllPub    ...             0     NaN    NaN   \n",
       "3       IR1          Lvl    AllPub    ...             0     NaN  MnPrv   \n",
       "4       IR1          Lvl    AllPub    ...             0     NaN    NaN   \n",
       "\n",
       "  Misc.Feature Misc.Val Mo.Sold Yr.Sold  Sale.Type  Sale.Condition  SalePrice  \n",
       "0          NaN        0       6    2010        WD           Normal     105000  \n",
       "1         Gar2    12500       6    2010        WD           Normal     172000  \n",
       "2          NaN        0       4    2010        WD           Normal     244000  \n",
       "3          NaN        0       3    2010        WD           Normal     189900  \n",
       "4          NaN        0       6    2010        WD           Normal     195500  \n",
       "\n",
       "[5 rows x 81 columns]"
      ]
     },
     "execution_count": 495,
     "metadata": {},
     "output_type": "execute_result"
    }
   ],
   "source": [
    "import pandas as pd\n",
    "import numpy as np\n",
    "import matplotlib.pyplot as plt\n",
    "import seaborn as sns\n",
    "from sklearn import linear_model\n",
    "from sklearn.preprocessing import PolynomialFeatures \n",
    "from sklearn.linear_model import Lasso\n",
    "from sklearn.linear_model import Ridge\n",
    "from sklearn.linear_model import LinearRegression\n",
    "from sklearn.metrics import mean_squared_error\n",
    "from sklearn.metrics import median_absolute_error\n",
    "from sklearn.metrics import r2_score\n",
    "from sklearn.metrics import explained_variance_score\n",
    "from sklearn import preprocessing \n",
    "from sklearn.model_selection import train_test_split\n",
    "from sklearn.feature_selection import f_regression\n",
    "from sklearn.feature_selection import SelectPercentile\n",
    "from sklearn.feature_selection import SelectKBest\n",
    "from sklearn.feature_selection import  RFECV\n",
    "\n",
    "\n",
    "# Read in data\n",
    "df = pd.read_csv('datasets/AmesHousingSetA.csv')\n",
    "df.head()"
   ]
  },
  {
   "cell_type": "code",
   "execution_count": 496,
   "metadata": {},
   "outputs": [
    {
     "name": "stdout",
     "output_type": "stream",
     "text": [
      "<class 'pandas.core.frame.DataFrame'>\n",
      "RangeIndex: 2344 entries, 0 to 2343\n",
      "Data columns (total 81 columns):\n",
      "PID                2344 non-null int64\n",
      "MS.SubClass        2344 non-null int64\n",
      "MS.Zoning          2344 non-null object\n",
      "Lot.Frontage       1946 non-null float64\n",
      "Lot.Area           2344 non-null int64\n",
      "Street             2344 non-null object\n",
      "Alley              166 non-null object\n",
      "Lot.Shape          2344 non-null object\n",
      "Land.Contour       2344 non-null object\n",
      "Utilities          2344 non-null object\n",
      "Lot.Config         2344 non-null object\n",
      "Land.Slope         2344 non-null object\n",
      "Neighborhood       2344 non-null object\n",
      "Condition.1        2344 non-null object\n",
      "Condition.2        2344 non-null object\n",
      "Bldg.Type          2344 non-null object\n",
      "House.Style        2344 non-null object\n",
      "Overall.Qual       2344 non-null int64\n",
      "Overall.Cond       2344 non-null int64\n",
      "Year.Built         2344 non-null int64\n",
      "Year.Remod.Add     2344 non-null int64\n",
      "Roof.Style         2344 non-null object\n",
      "Roof.Matl          2344 non-null object\n",
      "Exterior.1st       2344 non-null object\n",
      "Exterior.2nd       2344 non-null object\n",
      "Mas.Vnr.Type       2327 non-null object\n",
      "Mas.Vnr.Area       2327 non-null float64\n",
      "Exter.Qual         2344 non-null object\n",
      "Exter.Cond         2344 non-null object\n",
      "Foundation         2344 non-null object\n",
      "Bsmt.Qual          2283 non-null object\n",
      "Bsmt.Cond          2283 non-null object\n",
      "Bsmt.Exposure      2280 non-null object\n",
      "BsmtFin.Type.1     2283 non-null object\n",
      "BsmtFin.SF.1       2343 non-null float64\n",
      "BsmtFin.Type.2     2282 non-null object\n",
      "BsmtFin.SF.2       2343 non-null float64\n",
      "Bsmt.Unf.SF        2343 non-null float64\n",
      "Total.Bsmt.SF      2343 non-null float64\n",
      "Heating            2344 non-null object\n",
      "Heating.QC         2344 non-null object\n",
      "Central.Air        2344 non-null object\n",
      "Electrical         2344 non-null object\n",
      "X1st.Flr.SF        2344 non-null int64\n",
      "X2nd.Flr.SF        2344 non-null int64\n",
      "Low.Qual.Fin.SF    2344 non-null int64\n",
      "Gr.Liv.Area        2344 non-null int64\n",
      "Bsmt.Full.Bath     2342 non-null float64\n",
      "Bsmt.Half.Bath     2342 non-null float64\n",
      "Full.Bath          2344 non-null int64\n",
      "Half.Bath          2344 non-null int64\n",
      "Bedroom.AbvGr      2344 non-null int64\n",
      "Kitchen.AbvGr      2344 non-null int64\n",
      "Kitchen.Qual       2344 non-null object\n",
      "TotRms.AbvGrd      2344 non-null int64\n",
      "Functional         2344 non-null object\n",
      "Fireplaces         2344 non-null int64\n",
      "Fireplace.Qu       1210 non-null object\n",
      "Garage.Type        2225 non-null object\n",
      "Garage.Yr.Blt      2223 non-null float64\n",
      "Garage.Finish      2223 non-null object\n",
      "Garage.Cars        2343 non-null float64\n",
      "Garage.Area        2343 non-null float64\n",
      "Garage.Qual        2223 non-null object\n",
      "Garage.Cond        2223 non-null object\n",
      "Paved.Drive        2344 non-null object\n",
      "Wood.Deck.SF       2344 non-null int64\n",
      "Open.Porch.SF      2344 non-null int64\n",
      "Enclosed.Porch     2344 non-null int64\n",
      "X3Ssn.Porch        2344 non-null int64\n",
      "Screen.Porch       2344 non-null int64\n",
      "Pool.Area          2344 non-null int64\n",
      "Pool.QC            9 non-null object\n",
      "Fence              464 non-null object\n",
      "Misc.Feature       84 non-null object\n",
      "Misc.Val           2344 non-null int64\n",
      "Mo.Sold            2344 non-null int64\n",
      "Yr.Sold            2344 non-null int64\n",
      "Sale.Type          2344 non-null object\n",
      "Sale.Condition     2344 non-null object\n",
      "SalePrice          2344 non-null int64\n",
      "dtypes: float64(11), int64(27), object(43)\n",
      "memory usage: 1.4+ MB\n",
      "None\n"
     ]
    },
    {
     "data": {
      "text/plain": [
       "(2344, 81)"
      ]
     },
     "execution_count": 496,
     "metadata": {},
     "output_type": "execute_result"
    }
   ],
   "source": [
    "print(df.info())\n",
    "df.shape\n",
    "#exploring the dataframe"
   ]
  },
  {
   "cell_type": "code",
   "execution_count": 497,
   "metadata": {},
   "outputs": [],
   "source": [
    "df = df.drop(['PID','Alley','Pool.QC','Fence','Misc.Feature'],axis=1)\n",
    "#dropping columns with excessive nulls"
   ]
  },
  {
   "cell_type": "code",
   "execution_count": 498,
   "metadata": {},
   "outputs": [
    {
     "data": {
      "text/plain": [
       "count      2344.000000\n",
       "mean     180512.479522\n",
       "std       81071.834942\n",
       "min       12789.000000\n",
       "25%      129350.000000\n",
       "50%      160000.000000\n",
       "75%      213000.000000\n",
       "max      755000.000000\n",
       "Name: SalePrice, dtype: float64"
      ]
     },
     "execution_count": 498,
     "metadata": {},
     "output_type": "execute_result"
    }
   ],
   "source": [
    "df['SalePrice'].describe()\n",
    "#Looking at our dependent variable which we are most interested in. "
   ]
  },
  {
   "cell_type": "code",
   "execution_count": 499,
   "metadata": {},
   "outputs": [
    {
     "name": "stdout",
     "output_type": "stream",
     "text": [
      "['MS.Zoning', 'Street', 'Lot.Shape', 'Land.Contour', 'Utilities', 'Lot.Config', 'Land.Slope', 'Neighborhood', 'Condition.1', 'Condition.2', 'Bldg.Type', 'House.Style', 'Roof.Style', 'Roof.Matl', 'Exterior.1st', 'Exterior.2nd', 'Mas.Vnr.Type', 'Exter.Qual', 'Exter.Cond', 'Foundation', 'Bsmt.Qual', 'Bsmt.Cond', 'Bsmt.Exposure', 'BsmtFin.Type.1', 'BsmtFin.Type.2', 'Heating', 'Heating.QC', 'Central.Air', 'Electrical', 'Kitchen.Qual', 'Functional', 'Fireplace.Qu', 'Garage.Type', 'Garage.Finish', 'Garage.Qual', 'Garage.Cond', 'Paved.Drive', 'Sale.Type', 'Sale.Condition']\n"
     ]
    }
   ],
   "source": [
    "# Get a list of the categorical features.\n",
    "def cat_features(dataframe):\n",
    "    td = pd.DataFrame({'a':[1,2,3], 'b':[1.0, 2.0, 3.0]})\n",
    "    return filter(lambda x: not(dataframe[x].dtype in [td['a'].dtype, td['b'].dtype]), list(dataframe))\n",
    "\n",
    "cats = list(cat_features(df))\n",
    "print(cats)"
   ]
  },
  {
   "cell_type": "code",
   "execution_count": 500,
   "metadata": {},
   "outputs": [
    {
     "name": "stdout",
     "output_type": "stream",
     "text": [
      "Overall.Qual\n",
      "10    454278.107143\n",
      "9     369316.136364\n",
      "8     270742.913858\n",
      "7     204781.981092\n",
      "6     162031.778151\n",
      "5     134346.546003\n",
      "4     105977.748634\n",
      "3      85573.758621\n",
      "2      52102.416667\n",
      "1      51866.666667\n",
      "Name: SalePrice, dtype: float64\n"
     ]
    }
   ],
   "source": [
    "y = df.groupby('Overall.Qual')['SalePrice'].mean().sort_values(ascending = False)\n",
    "print(y)\n",
    "#Showing correlation between quality and sale price"
   ]
  },
  {
   "cell_type": "code",
   "execution_count": 501,
   "metadata": {},
   "outputs": [
    {
     "data": {
      "image/png": "[encoded data removed]",
      "text/plain": [
       "<Figure size 432x288 with 1 Axes>"
      ]
     },
     "metadata": {
      "needs_background": "light"
     },
     "output_type": "display_data"
    }
   ],
   "source": [
    "plt.plot(df['Year.Built'], df['SalePrice'], marker = '.', linestyle = 'none')\n",
    "plt.xlabel('Year')\n",
    "plt.ylabel('Sale Price')\n",
    "plt.show()\n",
    "#plot between Year Built and Sale Price"
   ]
  },
  {
   "cell_type": "code",
   "execution_count": 502,
   "metadata": {},
   "outputs": [
    {
     "data": {
      "text/plain": [
       "<matplotlib.axes._subplots.AxesSubplot at 0x12c30f9ef28>"
      ]
     },
     "execution_count": 502,
     "metadata": {},
     "output_type": "execute_result"
    },
    {
     "data": {
      "image/png": "[encoded data removed]",
      "text/plain": [
       "<Figure size 432x288 with 1 Axes>"
      ]
     },
     "metadata": {
      "needs_background": "light"
     },
     "output_type": "display_data"
    }
   ],
   "source": [
    "df.boxplot(column='SalePrice', by='House.Style', notch = True)\n",
    "#Showing statistically significant differences in mean sale prices of homes by style of home\n",
    "#The factors all seem to have a relationship with our dependent variable and should be included in our model."
   ]
  },
  {
   "cell_type": "code",
   "execution_count": 503,
   "metadata": {
    "scrolled": true
   },
   "outputs": [
    {
     "data": {
      "text/html": [
       "<div>\n",
       "<style scoped>\n",
       "    .dataframe tbody tr th:only-of-type {\n",
       "        vertical-align: middle;\n",
       "    }\n",
       "\n",
       "    .dataframe tbody tr th {\n",
       "        vertical-align: top;\n",
       "    }\n",
       "\n",
       "    .dataframe thead th {\n",
       "        text-align: right;\n",
       "    }\n",
       "</style>\n",
       "<table border=\"1\" class=\"dataframe\">\n",
       "  <thead>\n",
       "    <tr style=\"text-align: right;\">\n",
       "      <th></th>\n",
       "      <th>MS.SubClass</th>\n",
       "      <th>Lot.Frontage</th>\n",
       "      <th>Lot.Area</th>\n",
       "      <th>Overall.Qual</th>\n",
       "      <th>Overall.Cond</th>\n",
       "      <th>Year.Built</th>\n",
       "      <th>Year.Remod.Add</th>\n",
       "      <th>Mas.Vnr.Area</th>\n",
       "      <th>BsmtFin.SF.1</th>\n",
       "      <th>BsmtFin.SF.2</th>\n",
       "      <th>...</th>\n",
       "      <th>Sale.Type_ConLw</th>\n",
       "      <th>Sale.Type_New</th>\n",
       "      <th>Sale.Type_Oth</th>\n",
       "      <th>Sale.Type_WD</th>\n",
       "      <th>Sale.Condition_Abnorml</th>\n",
       "      <th>Sale.Condition_AdjLand</th>\n",
       "      <th>Sale.Condition_Alloca</th>\n",
       "      <th>Sale.Condition_Family</th>\n",
       "      <th>Sale.Condition_Normal</th>\n",
       "      <th>Sale.Condition_Partial</th>\n",
       "    </tr>\n",
       "  </thead>\n",
       "  <tbody>\n",
       "    <tr>\n",
       "      <th>0</th>\n",
       "      <td>20</td>\n",
       "      <td>80.0</td>\n",
       "      <td>11622</td>\n",
       "      <td>5</td>\n",
       "      <td>6</td>\n",
       "      <td>1961</td>\n",
       "      <td>1961</td>\n",
       "      <td>0.0</td>\n",
       "      <td>468.0</td>\n",
       "      <td>144.0</td>\n",
       "      <td>...</td>\n",
       "      <td>0</td>\n",
       "      <td>0</td>\n",
       "      <td>0</td>\n",
       "      <td>1</td>\n",
       "      <td>0</td>\n",
       "      <td>0</td>\n",
       "      <td>0</td>\n",
       "      <td>0</td>\n",
       "      <td>1</td>\n",
       "      <td>0</td>\n",
       "    </tr>\n",
       "    <tr>\n",
       "      <th>1</th>\n",
       "      <td>20</td>\n",
       "      <td>81.0</td>\n",
       "      <td>14267</td>\n",
       "      <td>6</td>\n",
       "      <td>6</td>\n",
       "      <td>1958</td>\n",
       "      <td>1958</td>\n",
       "      <td>108.0</td>\n",
       "      <td>923.0</td>\n",
       "      <td>0.0</td>\n",
       "      <td>...</td>\n",
       "      <td>0</td>\n",
       "      <td>0</td>\n",
       "      <td>0</td>\n",
       "      <td>1</td>\n",
       "      <td>0</td>\n",
       "      <td>0</td>\n",
       "      <td>0</td>\n",
       "      <td>0</td>\n",
       "      <td>1</td>\n",
       "      <td>0</td>\n",
       "    </tr>\n",
       "    <tr>\n",
       "      <th>2</th>\n",
       "      <td>20</td>\n",
       "      <td>93.0</td>\n",
       "      <td>11160</td>\n",
       "      <td>7</td>\n",
       "      <td>5</td>\n",
       "      <td>1968</td>\n",
       "      <td>1968</td>\n",
       "      <td>0.0</td>\n",
       "      <td>1065.0</td>\n",
       "      <td>0.0</td>\n",
       "      <td>...</td>\n",
       "      <td>0</td>\n",
       "      <td>0</td>\n",
       "      <td>0</td>\n",
       "      <td>1</td>\n",
       "      <td>0</td>\n",
       "      <td>0</td>\n",
       "      <td>0</td>\n",
       "      <td>0</td>\n",
       "      <td>1</td>\n",
       "      <td>0</td>\n",
       "    </tr>\n",
       "    <tr>\n",
       "      <th>3</th>\n",
       "      <td>60</td>\n",
       "      <td>74.0</td>\n",
       "      <td>13830</td>\n",
       "      <td>5</td>\n",
       "      <td>5</td>\n",
       "      <td>1997</td>\n",
       "      <td>1998</td>\n",
       "      <td>0.0</td>\n",
       "      <td>791.0</td>\n",
       "      <td>0.0</td>\n",
       "      <td>...</td>\n",
       "      <td>0</td>\n",
       "      <td>0</td>\n",
       "      <td>0</td>\n",
       "      <td>1</td>\n",
       "      <td>0</td>\n",
       "      <td>0</td>\n",
       "      <td>0</td>\n",
       "      <td>0</td>\n",
       "      <td>1</td>\n",
       "      <td>0</td>\n",
       "    </tr>\n",
       "    <tr>\n",
       "      <th>4</th>\n",
       "      <td>60</td>\n",
       "      <td>78.0</td>\n",
       "      <td>9978</td>\n",
       "      <td>6</td>\n",
       "      <td>6</td>\n",
       "      <td>1998</td>\n",
       "      <td>1998</td>\n",
       "      <td>20.0</td>\n",
       "      <td>602.0</td>\n",
       "      <td>0.0</td>\n",
       "      <td>...</td>\n",
       "      <td>0</td>\n",
       "      <td>0</td>\n",
       "      <td>0</td>\n",
       "      <td>1</td>\n",
       "      <td>0</td>\n",
       "      <td>0</td>\n",
       "      <td>0</td>\n",
       "      <td>0</td>\n",
       "      <td>1</td>\n",
       "      <td>0</td>\n",
       "    </tr>\n",
       "  </tbody>\n",
       "</table>\n",
       "<p>5 rows × 285 columns</p>\n",
       "</div>"
      ],
      "text/plain": [
       "   MS.SubClass  Lot.Frontage  Lot.Area  Overall.Qual  Overall.Cond  \\\n",
       "0           20          80.0     11622             5             6   \n",
       "1           20          81.0     14267             6             6   \n",
       "2           20          93.0     11160             7             5   \n",
       "3           60          74.0     13830             5             5   \n",
       "4           60          78.0      9978             6             6   \n",
       "\n",
       "   Year.Built  Year.Remod.Add  Mas.Vnr.Area  BsmtFin.SF.1  BsmtFin.SF.2  \\\n",
       "0        1961            1961           0.0         468.0         144.0   \n",
       "1        1958            1958         108.0         923.0           0.0   \n",
       "2        1968            1968           0.0        1065.0           0.0   \n",
       "3        1997            1998           0.0         791.0           0.0   \n",
       "4        1998            1998          20.0         602.0           0.0   \n",
       "\n",
       "            ...            Sale.Type_ConLw  Sale.Type_New  Sale.Type_Oth  \\\n",
       "0           ...                          0              0              0   \n",
       "1           ...                          0              0              0   \n",
       "2           ...                          0              0              0   \n",
       "3           ...                          0              0              0   \n",
       "4           ...                          0              0              0   \n",
       "\n",
       "   Sale.Type_WD   Sale.Condition_Abnorml  Sale.Condition_AdjLand  \\\n",
       "0              1                       0                       0   \n",
       "1              1                       0                       0   \n",
       "2              1                       0                       0   \n",
       "3              1                       0                       0   \n",
       "4              1                       0                       0   \n",
       "\n",
       "   Sale.Condition_Alloca  Sale.Condition_Family  Sale.Condition_Normal  \\\n",
       "0                      0                      0                      1   \n",
       "1                      0                      0                      1   \n",
       "2                      0                      0                      1   \n",
       "3                      0                      0                      1   \n",
       "4                      0                      0                      1   \n",
       "\n",
       "   Sale.Condition_Partial  \n",
       "0                       0  \n",
       "1                       0  \n",
       "2                       0  \n",
       "3                       0  \n",
       "4                       0  \n",
       "\n",
       "[5 rows x 285 columns]"
      ]
     },
     "execution_count": 503,
     "metadata": {},
     "output_type": "execute_result"
    }
   ],
   "source": [
    "dfa = pd.get_dummies(df,columns=cats )\n",
    "dfa.head()\n",
    "#Getting our categorical variables in order to 1 hot encode them"
   ]
  },
  {
   "cell_type": "code",
   "execution_count": 504,
   "metadata": {},
   "outputs": [
    {
     "data": {
      "text/plain": [
       "(2344, 285)"
      ]
     },
     "execution_count": 504,
     "metadata": {},
     "output_type": "execute_result"
    }
   ],
   "source": [
    "dfa.shape"
   ]
  },
  {
   "cell_type": "code",
   "execution_count": 505,
   "metadata": {},
   "outputs": [],
   "source": [
    "cs = list(dfa.columns)\n",
    "cs.remove('SalePrice')\n",
    "\n",
    "data_x = dfa[cs]\n",
    "data_y = dfa['SalePrice']\n",
    "\n",
    "x_train, x_test, y_train, y_test = train_test_split(data_x, data_y, test_size= 0.2, random_state = 4)"
   ]
  },
  {
   "cell_type": "code",
   "execution_count": 506,
   "metadata": {},
   "outputs": [
    {
     "name": "stderr",
     "output_type": "stream",
     "text": [
      "C:\\Users\\Andrew\\AppData\\Local\\Continuum\\anaconda3\\lib\\site-packages\\sklearn\\utils\\deprecation.py:58: DeprecationWarning: Class Imputer is deprecated; Imputer was deprecated in version 0.20 and will be removed in 0.22. Import impute.SimpleImputer from sklearn instead.\n",
      "  warnings.warn(msg, category=DeprecationWarning)\n"
     ]
    }
   ],
   "source": [
    "# Crating the preprocessing Pipeline\n",
    "\n",
    "#Imputing for mode responses. Replaces NaN's \n",
    "imp = preprocessing.Imputer(missing_values='NaN', strategy = 'most_frequent', axis=0)\n",
    "\n",
    "#standard (z-score) scaler\n",
    "scaler = preprocessing.StandardScaler()\n",
    "\n",
    "# Run the training data through preprocessing pipeline \n",
    "train_x_pp = imp.fit_transform(x_train)\n",
    "train_x_pp = scaler.fit_transform(train_x_pp)\n"
   ]
  },
  {
   "cell_type": "code",
   "execution_count": 507,
   "metadata": {},
   "outputs": [
    {
     "name": "stderr",
     "output_type": "stream",
     "text": [
      "C:\\Users\\Andrew\\AppData\\Local\\Continuum\\anaconda3\\lib\\site-packages\\sklearn\\feature_selection\\univariate_selection.py:299: RuntimeWarning: invalid value encountered in true_divide\n",
      "  corr /= X_norms\n",
      "C:\\Users\\Andrew\\AppData\\Local\\Continuum\\anaconda3\\lib\\site-packages\\scipy\\stats\\_distn_infrastructure.py:879: RuntimeWarning: invalid value encountered in greater\n",
      "  return (self.a < x) & (x < self.b)\n",
      "C:\\Users\\Andrew\\AppData\\Local\\Continuum\\anaconda3\\lib\\site-packages\\scipy\\stats\\_distn_infrastructure.py:879: RuntimeWarning: invalid value encountered in less\n",
      "  return (self.a < x) & (x < self.b)\n",
      "C:\\Users\\Andrew\\AppData\\Local\\Continuum\\anaconda3\\lib\\site-packages\\scipy\\stats\\_distn_infrastructure.py:1821: RuntimeWarning: invalid value encountered in less_equal\n",
      "  cond2 = cond0 & (x <= self.a)\n"
     ]
    }
   ],
   "source": [
    "selector_f = SelectPercentile(f_regression, percentile=25)\n",
    "selector_f.fit(train_x_pp, y_train)\n",
    "fscores = []\n",
    "for name, score, pv in zip(list(dfa), selector_f.scores_, selector_f.pvalues_):\n",
    "    if pv <.05:\n",
    "        fscores.append(name)\n",
    "\n",
    "for i in dfa.columns:\n",
    "    if i not in fscores:\n",
    "        dfa = dfa.drop(i,axis = 1)\n",
    "#Feature selecting using an F test. Only including variables with 95% confidence that they affect the dependent variable.        "
   ]
  },
  {
   "cell_type": "code",
   "execution_count": 508,
   "metadata": {},
   "outputs": [
    {
     "data": {
      "text/plain": [
       "LinearRegression(copy_X=True, fit_intercept=True, n_jobs=None,\n",
       "         normalize=False)"
      ]
     },
     "execution_count": 508,
     "metadata": {},
     "output_type": "execute_result"
    }
   ],
   "source": [
    "# Build the model on the preprocessed training data \n",
    "model = linear_model.LinearRegression()\n",
    "model.fit(train_x_pp, y_train)"
   ]
  },
  {
   "cell_type": "code",
   "execution_count": 509,
   "metadata": {},
   "outputs": [],
   "source": [
    "def print_regression_error_metrics(preds, y_test):\n",
    "    print('MSE, MAE, R^2, EVS: ' + str([mean_squared_error(y_test, preds),\n",
    "           median_absolute_error(y_test, preds),\n",
    "           r2_score(y_test, preds),\n",
    "           explained_variance_score(y_test, preds)]))"
   ]
  },
  {
   "cell_type": "code",
   "execution_count": 510,
   "metadata": {},
   "outputs": [
    {
     "name": "stdout",
     "output_type": "stream",
     "text": [
      "MSE, MAE, R^2, EVS: [1.1599093623275854e+27, 11105.740625109174, -1.7110751986828966e+17, -1.706049489454762e+17]\n"
     ]
    }
   ],
   "source": [
    "# Run our test data through the same pipeline  \n",
    "test_x_pp = imp.transform(x_test)\n",
    "test_x_pp = scaler.transform(test_x_pp)\n",
    "\n",
    "# Predict on the transformed test data and show the evaluation results \n",
    "preds = model.predict(test_x_pp)\n",
    "print_regression_error_metrics(preds, y_test)"
   ]
  },
  {
   "cell_type": "code",
   "execution_count": 511,
   "metadata": {},
   "outputs": [
    {
     "name": "stdout",
     "output_type": "stream",
     "text": [
      "MSE, MAE, R^2, EVS: [709122661.5101696, 11123.796136083838, 0.8953916367655479, 0.8960177178413364]\n"
     ]
    },
    {
     "name": "stderr",
     "output_type": "stream",
     "text": [
      "C:\\Users\\Andrew\\AppData\\Local\\Continuum\\anaconda3\\lib\\site-packages\\sklearn\\linear_model\\coordinate_descent.py:492: ConvergenceWarning: Objective did not converge. You might want to increase the number of iterations. Fitting data with very small alpha may cause precision problems.\n",
      "  ConvergenceWarning)\n"
     ]
    }
   ],
   "source": [
    "#Run a lasso regression to reduce overfitting and improve upon our base model.\n",
    "lasso1 = Lasso(alpha=0.01)\n",
    "lasso1.fit(train_x_pp,y_train)\n",
    "lass = lasso1.predict(test_x_pp)\n",
    "print_regression_error_metrics(lass, y_test)"
   ]
  },
  {
   "cell_type": "code",
   "execution_count": 512,
   "metadata": {},
   "outputs": [
    {
     "name": "stdout",
     "output_type": "stream",
     "text": [
      "MSE, MAE, R^2, EVS: [709208167.2176665, 11103.858896776102, 0.8953790231338111, 0.8960012458932444]\n"
     ]
    }
   ],
   "source": [
    "ridge1 = Ridge(alpha=0.01)\n",
    "ridge1.fit(train_x_pp,y_train)\n",
    "ridg = ridge1.predict(test_x_pp)\n",
    "print_regression_error_metrics(ridg, y_test)"
   ]
  },
  {
   "cell_type": "code",
   "execution_count": 513,
   "metadata": {},
   "outputs": [
    {
     "data": {
      "text/plain": [
       "(586, 257)"
      ]
     },
     "execution_count": 513,
     "metadata": {},
     "output_type": "execute_result"
    }
   ],
   "source": [
    "#Testing our model on the second dataset.\n",
    "df2 = pd.read_csv('datasets/AmesHousingSetB.csv')\n",
    "dfb = pd.get_dummies(df2,columns=cats )\n",
    "dfb = dfb.drop(['PID','Alley','Pool.QC','Fence','Misc.Feature'],axis=1)\n",
    "dfb.shape"
   ]
  },
  {
   "cell_type": "code",
   "execution_count": 514,
   "metadata": {},
   "outputs": [
    {
     "data": {
      "text/plain": [
       "(586, 193)"
      ]
     },
     "execution_count": 514,
     "metadata": {},
     "output_type": "execute_result"
    }
   ],
   "source": [
    "for i in dfa.columns:\n",
    "    if i not in dfb.columns:\n",
    "        zero = pd.Series(np.zeros(len(dfb)))\n",
    "        dfb[i] = zero\n",
    "        \n",
    "for i in dfb.columns:\n",
    "    if i not in dfa.columns:\n",
    "        dfb = dfb.drop(i,axis=1)\n",
    "dfb.shape    \n",
    "#This corrects for differences in dimension that arise from categorical responses not in dataset B which were not 1 hot encoded. \n",
    "#Accounted for by including dummy variable which contains only zeros which is technically accurate"
   ]
  },
  {
   "cell_type": "code",
   "execution_count": 515,
   "metadata": {},
   "outputs": [],
   "source": [
    "z = list(dfb.columns)\n",
    "z.remove('SalePrice')\n",
    "\n",
    "data_z = dfb[z]\n",
    "data_ind = dfb['SalePrice']\n",
    "\n",
    "x_train, x_test, y_train, y_test = train_test_split(data_z, data_ind, test_size= 0.2, random_state = 4)\n",
    "\n",
    "train_z_pp = imp.fit_transform(x_train)\n",
    "train_z_pp = scaler.fit_transform(train_z_pp)\n",
    "#Repeating the same process as before, builing our base model."
   ]
  },
  {
   "cell_type": "code",
   "execution_count": 516,
   "metadata": {},
   "outputs": [
    {
     "name": "stdout",
     "output_type": "stream",
     "text": [
      "MSE, MAE, R^2, EVS: [3.563010346720386e+28, 13305.275799860916, -6.955101683285264e+18, -6.89615092686998e+18]\n"
     ]
    }
   ],
   "source": [
    "model.fit(train_z_pp, y_train)\n",
    "test_z_pp = imp.transform(x_test)\n",
    "test_z_pp = scaler.transform(test_z_pp)\n",
    "\n",
    "# Predict on the transformed test data and show the evaluation results \n",
    "preds2 = model.predict(test_z_pp)\n",
    "print_regression_error_metrics(preds2, y_test)"
   ]
  },
  {
   "cell_type": "code",
   "execution_count": 517,
   "metadata": {},
   "outputs": [
    {
     "name": "stdout",
     "output_type": "stream",
     "text": [
      "MSE, MAE, R^2, EVS: [600252274.8933195, 12749.315182536477, 0.8828289788338928, 0.8831978380415726]\n"
     ]
    },
    {
     "name": "stderr",
     "output_type": "stream",
     "text": [
      "C:\\Users\\Andrew\\AppData\\Local\\Continuum\\anaconda3\\lib\\site-packages\\sklearn\\linear_model\\coordinate_descent.py:492: ConvergenceWarning: Objective did not converge. You might want to increase the number of iterations. Fitting data with very small alpha may cause precision problems.\n",
      "  ConvergenceWarning)\n"
     ]
    }
   ],
   "source": [
    "#Running a second lasso regression\n",
    "lasso2 = Lasso(alpha=0.01)\n",
    "lasso2.fit(train_z_pp,y_train)\n",
    "lass2 = lasso2.predict(test_z_pp)\n",
    "print_regression_error_metrics(lass2, y_test)"
   ]
  },
  {
   "cell_type": "markdown",
   "metadata": {},
   "source": [
    "## Part 2: Questions\n"
   ]
  },
  {
   "cell_type": "markdown",
   "metadata": {},
   "source": [
    "### I Data Preparation:\n",
    "#### The only data transformation I performed was to remove certain columns with excessive number of null responses. I also removed the ID column as it is by definition arbitrary and would only create noise in the regression."
   ]
  },
  {
   "cell_type": "markdown",
   "metadata": {},
   "source": [
    "### II Exploratory Analysis\n",
    "#### 1) I observed some apparent relationships between the year a house was built, its quality rating, and the style of home with the price it sold for.\n",
    "#### 2) I would expect other features and amenities such as presence of basements, garages, bathrooms, and fireplaces to go towards an increased sale price."
   ]
  },
  {
   "cell_type": "markdown",
   "metadata": {},
   "source": [
    "### III Model Building\n",
    "#### For my model, I first one-hot-encoded my categorical variables so that their effect could be measured. I then imputed to account for null values and missing categorical responses. My base linear regression was a very poor estimator with high variance and extremely low R^2. However, the Ridge and Lasso models were fairly good estimators both with R^2s around 89%. I chose to mostly examine R^2 as it told me how much of the change in housing prices my model could account for. \n"
   ]
  },
  {
   "cell_type": "markdown",
   "metadata": {},
   "source": [
    "### Predicting and Validating\n",
    "#### 1) I performed the same transformations and regressions on the second dataset. My best lasso model ended up producing an R^2 of 88% which is only slightly worse than the original dataset with similarly small variance. \n",
    "#### 2) I would say that my model ended up being a fairly good predictor of housing prices. I accounted for categorical variables by one-hot-encoding and I only included features that I was 95% confident that they had a significant effect on the dependent variable. I also employed a lasso model which I believe was especially effective since it gives appropriate weight/importance to the most significant variables. In a dataset with so many features which many of which may have been correlated with each other this model was about to account for the difference-making features. In a sense it served as a second form of feature selection."
   ]
  }
 ],
 "metadata": {
  "kernelspec": {
   "display_name": "Python 3",
   "language": "python",
   "name": "python3"
  },
  "language_info": {
   "codemirror_mode": {
    "name": "ipython",
    "version": 3
   },
   "file_extension": ".py",
   "mimetype": "text/x-python",
   "name": "python",
   "nbconvert_exporter": "python",
   "pygments_lexer": "ipython3",
   "version": "3.7.1"
  }
 },
 "nbformat": 4,
 "nbformat_minor": 2
}
